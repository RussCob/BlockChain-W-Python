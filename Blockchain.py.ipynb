{
 "cells": [
  {
   "cell_type": "code",
   "execution_count": 1,
   "metadata": {},
   "outputs": [],
   "source": [
    "#creating empty list\n",
    "blockchain = []"
   ]
  },
  {
   "cell_type": "code",
   "execution_count": 2,
   "metadata": {},
   "outputs": [
    {
     "name": "stdout",
     "output_type": "stream",
     "text": [
      "[[1], 7, 5.3]\n"
     ]
    }
   ],
   "source": [
    "# Defining function and adding element to the list\n",
    "def add_value():\n",
    "    #Add single value\n",
    "    blockchain.append([1])\n",
    "    #Add multiple values \n",
    "    blockchain.extend([7,5.3])\n",
    "    #or u can use, .extend((7,5.3))\n",
    "    print(blockchain)\n",
    "# You have to add something for arguments\n",
    "add_value()\n"
   ]
  },
  {
   "cell_type": "code",
   "execution_count": 3,
   "metadata": {},
   "outputs": [],
   "source": [
    "# Return Value \n",
    "# We need to get last data then adding to new chain\n",
    "def get_last_blockchain_value():\n",
    "    return blockchain[-1]"
   ]
  },
  {
   "cell_type": "code",
   "execution_count": 4,
   "metadata": {},
   "outputs": [
    {
     "name": "stdout",
     "output_type": "stream",
     "text": [
      "[[1], 7, 5.3, [5.3, 2]]\n",
      "[[1], 7, 5.3, [5.3, 2], [[5.3, 2], 0.9]]\n",
      "[[1], 7, 5.3, [5.3, 2], [[5.3, 2], 0.9], [[[5.3, 2], 0.9], 10.89]]\n"
     ]
    }
   ],
   "source": [
    "# Add argument to function\n",
    "def add_value(transaction_amount):\n",
    "    blockchain.append([blockchain[-1], transaction_amount])\n",
    "    print(blockchain)\n",
    "# You have to add something for arguments\n",
    "add_value(2)\n",
    "add_value(0.9)\n",
    "add_value(10.89)\n"
   ]
  },
  {
   "cell_type": "code",
   "execution_count": 5,
   "metadata": {},
   "outputs": [
    {
     "name": "stdout",
     "output_type": "stream",
     "text": [
      "[[1], 7, 5.3, [5.3, 2], [[5.3, 2], 0.9], [[[5.3, 2], 0.9], 10.89], [[[[5.3, 2], 0.9], 10.89], 2], [[[[[5.3, 2], 0.9], 10.89], 2], 0.9], [[[[[[5.3, 2], 0.9], 10.89], 2], 0.9], 10.89]]\n"
     ]
    }
   ],
   "source": [
    "#Put them together\n",
    "def add_value(transaction_amount):\n",
    "    blockchain.append([get_last_blockchain_value(), transaction_amount])\n",
    "    \n",
    "add_value(2)\n",
    "add_value(0.9)\n",
    "add_value(10.89)\n",
    "\n",
    "print(blockchain)"
   ]
  },
  {
   "cell_type": "code",
   "execution_count": 9,
   "metadata": {},
   "outputs": [
    {
     "name": "stdout",
     "output_type": "stream",
     "text": [
      "[[1], [[1], 2], [[[1], 2], 0.9], [[[[1], 2], 0.9], 10.89]]\n"
     ]
    }
   ],
   "source": [
    "#Starting over for more readable\n",
    "blockchain = [[1]]\n",
    "\n",
    "def get_last_blockchain_value():\n",
    "    return blockchain[-1]\n",
    "\n",
    "def add_value(transaction_amount):\n",
    "    blockchain.append([get_last_blockchain_value(), transaction_amount])\n",
    "add_value(2)\n",
    "add_value(0.9)\n",
    "add_value(10.89)\n",
    "\n",
    "print(blockchain)"
   ]
  },
  {
   "cell_type": "code",
   "execution_count": 15,
   "metadata": {},
   "outputs": [
    {
     "data": {
      "text/plain": [
       "[[[1], 2], [[[1], 2], 0.9], [[[[1], 2], 0.9], 10.89]]"
      ]
     },
     "execution_count": 15,
     "metadata": {},
     "output_type": "execute_result"
    }
   ],
   "source": [
    "# Using default arguments\n",
    "blockchain = []\n",
    "\n",
    "def get_last_blockchain_value():\n",
    "    return blockchain[-1]\n",
    "# We need to add value for last transaction because list is empty there is no data for extract\n",
    "def add_value(transaction_amount, last_transaction=[1]):\n",
    "    blockchain.append([last_transaction, transaction_amount])\n",
    "    \n",
    "add_value(2)\n",
    "add_value(0.9, get_last_blockchain_value())\n",
    "add_value(10.89,get_last_blockchain_value())\n",
    "# print\n",
    "blockchain"
   ]
  },
  {
   "cell_type": "code",
   "execution_count": 16,
   "metadata": {},
   "outputs": [
    {
     "data": {
      "text/plain": [
       "[[[1], 2], [[[1], 2], 0.9], [[[[1], 2], 0.9], 10.89]]"
      ]
     },
     "execution_count": 16,
     "metadata": {},
     "output_type": "execute_result"
    }
   ],
   "source": [
    "# Keyword arguments, just for example \n",
    "# you can switch to position\n",
    "\n",
    "blockchain = []\n",
    "\n",
    "def get_last_blockchain_value():\n",
    "    return blockchain[-1]\n",
    "# We need to add value for last transaction because list is empty there is no data for extract\n",
    "def add_value(transaction_amount, last_transaction=[1]):\n",
    "    blockchain.append([last_transaction, transaction_amount])\n",
    "    \n",
    "add_value(2)\n",
    "# watch out here\n",
    "add_value(last_transaction=get_last_blockchain_value(),transaction_amount=0.9)\n",
    "add_value(10.89,get_last_blockchain_value())\n",
    "# print\n",
    "blockchain"
   ]
  },
  {
   "cell_type": "code",
   "execution_count": null,
   "metadata": {},
   "outputs": [],
   "source": []
  }
 ],
 "metadata": {
  "kernelspec": {
   "display_name": "Python 3",
   "language": "python",
   "name": "python3"
  },
  "language_info": {
   "codemirror_mode": {
    "name": "ipython",
    "version": 3
   },
   "file_extension": ".py",
   "mimetype": "text/x-python",
   "name": "python",
   "nbconvert_exporter": "python",
   "pygments_lexer": "ipython3",
   "version": "3.7.6"
  }
 },
 "nbformat": 4,
 "nbformat_minor": 4
}
