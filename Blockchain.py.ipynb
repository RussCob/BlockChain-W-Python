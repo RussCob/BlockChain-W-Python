{
 "cells": [
  {
   "cell_type": "code",
   "execution_count": 17,
   "metadata": {},
   "outputs": [
    {
     "name": "stdout",
     "output_type": "stream",
     "text": [
      "Your Transaction Amount : 2\n",
      "Your Transaction Amount : 3.7\n",
      "Your Transaction Amount : 9.23\n"
     ]
    },
    {
     "data": {
      "text/plain": [
       "[[1], [[1], 2.0], [[[1], 2.0], 3.7], [[[[1], 2.0], 3.7], 9.23]]"
      ]
     },
     "execution_count": 17,
     "metadata": {},
     "output_type": "execute_result"
    }
   ],
   "source": [
    "# Create a list then add elemnt\n",
    "blockchain = [[1]]\n",
    "\n",
    "# before the start ne new chain always get last element from before\n",
    "def get_last_blockchain_value():\n",
    "    return blockchain[-1]\n",
    "\n",
    "# We need to add value for last transaction because list is empty there is no data for extract\n",
    "def add_value(transaction_amount, last_transaction=[1]):\n",
    "    blockchain.append([last_transaction, transaction_amount])\n",
    "\n",
    "# create a loop for user input then we don't need to ask again and again\n",
    "def get_user_input():\n",
    "    return float(input('Your Transaction Amount : '))\n",
    "\n",
    "# get user amount store as a data and add to function\n",
    "tx_amount = get_user_input()\n",
    "add_value(tx_amount)\n",
    "# \n",
    "tx_amount = get_user_input()\n",
    "add_value(last_transaction=get_last_blockchain_value(),transaction_amount=tx_amount)\n",
    "# \n",
    "tx_amount = get_user_input()\n",
    "add_value(tx_amount, get_last_blockchain_value())\n",
    "\n",
    "\n",
    "blockchain\n",
    "# Summary what we did; Chain of data, Mine blocks, Block Hashing"
   ]
  },
  {
   "cell_type": "code",
   "execution_count": null,
   "metadata": {},
   "outputs": [],
   "source": []
  },
  {
   "cell_type": "code",
   "execution_count": null,
   "metadata": {},
   "outputs": [],
   "source": []
  }
 ],
 "metadata": {
  "kernelspec": {
   "display_name": "Python 3",
   "language": "python",
   "name": "python3"
  },
  "language_info": {
   "codemirror_mode": {
    "name": "ipython",
    "version": 3
   },
   "file_extension": ".py",
   "mimetype": "text/x-python",
   "name": "python",
   "nbconvert_exporter": "python",
   "pygments_lexer": "ipython3",
   "version": "3.7.6"
  }
 },
 "nbformat": 4,
 "nbformat_minor": 4
}
