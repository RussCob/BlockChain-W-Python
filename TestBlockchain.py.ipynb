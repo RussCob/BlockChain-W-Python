{
 "cells": [
  {
   "cell_type": "code",
   "execution_count": null,
   "metadata": {},
   "outputs": [],
   "source": [
    "#creating empty list\n",
    "blockchain = []"
   ]
  },
  {
   "cell_type": "code",
   "execution_count": null,
   "metadata": {},
   "outputs": [],
   "source": [
    "# Defining function and adding element to the list\n",
    "def add_value():\n",
    "    #Add single value\n",
    "    blockchain.append([1])\n",
    "    #Add multiple values \n",
    "    blockchain.extend([7,5.3])\n",
    "    #or u can use, .extend((7,5.3))\n",
    "    print(blockchain)\n",
    "# You have to add something for arguments\n",
    "add_value()\n"
   ]
  },
  {
   "cell_type": "code",
   "execution_count": null,
   "metadata": {},
   "outputs": [],
   "source": [
    "# Return Value \n",
    "# We need to get last data then adding to new chain\n",
    "def get_last_blockchain_value():\n",
    "    return blockchain[-1]"
   ]
  },
  {
   "cell_type": "code",
   "execution_count": null,
   "metadata": {},
   "outputs": [],
   "source": [
    "# Add argument to function\n",
    "def add_value(transaction_amount):\n",
    "    blockchain.append([blockchain[-1], transaction_amount])\n",
    "    print(blockchain)\n",
    "# You have to add something for arguments\n",
    "add_value(2)\n",
    "add_value(0.9)\n",
    "add_value(10.89)\n"
   ]
  },
  {
   "cell_type": "code",
   "execution_count": null,
   "metadata": {},
   "outputs": [],
   "source": [
    "#Put them together\n",
    "def add_value(transaction_amount):\n",
    "    blockchain.append([get_last_blockchain_value(), transaction_amount])\n",
    "    \n",
    "add_value(2)\n",
    "add_value(0.9)\n",
    "add_value(10.89)\n",
    "\n",
    "print(blockchain)"
   ]
  },
  {
   "cell_type": "code",
   "execution_count": null,
   "metadata": {},
   "outputs": [],
   "source": [
    "#Starting over for more readable\n",
    "blockchain = [[1]]\n",
    "\n",
    "def get_last_blockchain_value():\n",
    "    return blockchain[-1]\n",
    "\n",
    "def add_value(transaction_amount):\n",
    "    blockchain.append([get_last_blockchain_value(), transaction_amount])\n",
    "add_value(2)\n",
    "add_value(0.9)\n",
    "add_value(10.89)\n",
    "\n",
    "print(blockchain)"
   ]
  },
  {
   "cell_type": "code",
   "execution_count": null,
   "metadata": {},
   "outputs": [],
   "source": [
    "# Using default arguments\n",
    "blockchain = []\n",
    "\n",
    "def get_last_blockchain_value():\n",
    "    return blockchain[-1]\n",
    "# We need to add value for last transaction because list is empty there is no data for extract\n",
    "def add_value(transaction_amount, last_transaction=[1]):\n",
    "    blockchain.append([last_transaction, transaction_amount])\n",
    "    \n",
    "add_value(2)\n",
    "add_value(0.9, get_last_blockchain_value())\n",
    "add_value(10.89,get_last_blockchain_value())\n",
    "# print\n",
    "blockchain"
   ]
  },
  {
   "cell_type": "code",
   "execution_count": null,
   "metadata": {},
   "outputs": [],
   "source": [
    "# Keyword arguments, just for example \n",
    "# you can switch to position\n",
    "\n",
    "blockchain = []\n",
    "\n",
    "def get_last_blockchain_value():\n",
    "    return blockchain[-1]\n",
    "# We need to add value for last transaction because list is empty there is no data for extract\n",
    "def add_value(transaction_amount, last_transaction=[1]):\n",
    "    blockchain.append([last_transaction, transaction_amount])\n",
    "    \n",
    "add_value(2)\n",
    "# watch out here\n",
    "add_value(last_transaction=get_last_blockchain_value(),transaction_amount=0.9)\n",
    "add_value(10.89,get_last_blockchain_value())\n",
    "# print\n",
    "blockchain"
   ]
  },
  {
   "cell_type": "code",
   "execution_count": null,
   "metadata": {},
   "outputs": [],
   "source": [
    "# Satrt here for loop \n",
    "# Input Function\n",
    "\n",
    "blockchain = []\n",
    "\n",
    "def get_last_blockchain_value():\n",
    "    return blockchain[-1]\n",
    "# We need to add value for last transaction because list is empty there is no data for extract\n",
    "def add_value(transaction_amount, last_transaction=[1]):\n",
    "    blockchain.append([last_transaction, transaction_amount])\n",
    "\n",
    "# # Taking amount from user\n",
    "# tx_amount = float(input('Your Transaction Amount : '))\n",
    "# add_value(tx_amount)\n",
    "    \n",
    "# # again    \n",
    "# tx_amount = float(input('Your Transaction Amount : '))\n",
    "# add_value(last_transaction=get_last_blockchain_value(),transaction_amount=tx_amount)\n",
    "\n",
    "\n",
    "# # and again\n",
    "# tx_amount = float(input('Your Transaction Amount : '))\n",
    "# add_value(tx_amount, get_last_blockchain_value())\n",
    "\n",
    "\n"
   ]
  },
  {
   "cell_type": "code",
   "execution_count": null,
   "metadata": {},
   "outputs": [],
   "source": [
    "# Here ia fun part for loop for taking user amount w return method\n",
    "\n",
    "def get_user_input():\n",
    "    return float(input('Your Transaction Amount : '))\n",
    "\n",
    "tx_amount = get_user_input()\n",
    "add_value(tx_amount)\n",
    "\n",
    "tx_amount = get_user_input()\n",
    "add_value(last_transaction=get_last_blockchain_value(),transaction_amount=tx_amount)\n",
    "\n",
    "tx_amount = get_user_input()\n",
    "add_value(tx_amount, get_last_blockchain_value())\n",
    "\n",
    "# For loop\n",
    "\n",
    "for block in blockchain:\n",
    "    print('Outputting Block')\n",
    "    print(block)\n",
    "    \n",
    "print('Done')\n",
    "\n",
    "# blockchain\n"
   ]
  },
  {
   "cell_type": "code",
   "execution_count": 3,
   "metadata": {},
   "outputs": [
    {
     "name": "stdout",
     "output_type": "stream",
     "text": [
      "Your Transaction Amount : 2\n",
      "Your Transaction Amount : 3\n",
      "Outputting Block\n",
      "[[1], 2.0]\n",
      "Outputting Block\n",
      "[[[1], 2.0], 3.0]\n",
      "type q to exit the loop: q\n",
      "Done\n"
     ]
    }
   ],
   "source": [
    "# While Loop \n",
    "# Start here!!!!!!!\n",
    "# control + z for break the code\n",
    "blockchain = []\n",
    "\n",
    "def get_last_blockchain_value():\n",
    "    return blockchain[-1]\n",
    "# We need to add value for last transaction because list is empty there is no data for extract\n",
    "def add_value(transaction_amount, last_transaction=[1]):\n",
    "    blockchain.append([last_transaction, transaction_amount])\n",
    "    \n",
    "def get_user_input():\n",
    "    return float(input('Your Transaction Amount : '))\n",
    "\n",
    "tx_amount = get_user_input()\n",
    "add_value(tx_amount)\n",
    "\n",
    "while True:\n",
    "    tx_amount = get_user_input()\n",
    "    add_value(tx_amount, get_last_blockchain_value())\n",
    "\n",
    "#  use for loop inside the while\n",
    "    for block in blockchain:\n",
    "        print('Outputting Block')\n",
    "        print(block)\n",
    "#  if u don't break the code it'll goes to infinity u can use break\n",
    "#     break\n",
    "#   or u can use code below\n",
    "    out = input('type q to exit the loop: ')\n",
    "    if out == 'q':\n",
    "        break\n",
    "print('Done')\n",
    "    "
   ]
  },
  {
   "cell_type": "raw",
   "metadata": {},
   "source": []
  },
  {
   "cell_type": "code",
   "execution_count": null,
   "metadata": {},
   "outputs": [],
   "source": []
  }
 ],
 "metadata": {
  "kernelspec": {
   "display_name": "Python 3",
   "language": "python",
   "name": "python3"
  }
 },
 "nbformat": 4,
 "nbformat_minor": 4
}
