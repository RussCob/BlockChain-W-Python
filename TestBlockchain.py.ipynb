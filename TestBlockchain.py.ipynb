{
 "cells": [
  {
   "cell_type": "code",
   "execution_count": null,
   "metadata": {},
   "outputs": [],
   "source": [
    "#creating empty list\n",
    "blockchain = []"
   ]
  },
  {
   "cell_type": "code",
   "execution_count": null,
   "metadata": {},
   "outputs": [],
   "source": [
    "# Defining function and adding element to the list\n",
    "def add_value():\n",
    "    #Add single value\n",
    "    blockchain.append([1])\n",
    "    #Add multiple values \n",
    "    blockchain.extend([7,5.3])\n",
    "    #or u can use, .extend((7,5.3))\n",
    "    print(blockchain)\n",
    "# You have to add something for arguments\n",
    "add_value()\n"
   ]
  },
  {
   "cell_type": "code",
   "execution_count": null,
   "metadata": {},
   "outputs": [],
   "source": [
    "# Return Value \n",
    "# We need to get last data then adding to new chain\n",
    "def get_last_blockchain_value():\n",
    "    return blockchain[-1]"
   ]
  },
  {
   "cell_type": "code",
   "execution_count": null,
   "metadata": {},
   "outputs": [],
   "source": [
    "# Add argument to function\n",
    "def add_value(transaction_amount):\n",
    "    blockchain.append([blockchain[-1], transaction_amount])\n",
    "    print(blockchain)\n",
    "# You have to add something for arguments\n",
    "add_value(2)\n",
    "add_value(0.9)\n",
    "add_value(10.89)\n"
   ]
  },
  {
   "cell_type": "code",
   "execution_count": null,
   "metadata": {},
   "outputs": [],
   "source": [
    "#Put them together\n",
    "def add_value(transaction_amount):\n",
    "    blockchain.append([get_last_blockchain_value(), transaction_amount])\n",
    "    \n",
    "add_value(2)\n",
    "add_value(0.9)\n",
    "add_value(10.89)\n",
    "\n",
    "print(blockchain)"
   ]
  },
  {
   "cell_type": "code",
   "execution_count": null,
   "metadata": {},
   "outputs": [],
   "source": [
    "#Starting over for more readable\n",
    "blockchain = [[1]]\n",
    "\n",
    "def get_last_blockchain_value():\n",
    "    return blockchain[-1]\n",
    "\n",
    "def add_value(transaction_amount):\n",
    "    blockchain.append([get_last_blockchain_value(), transaction_amount])\n",
    "add_value(2)\n",
    "add_value(0.9)\n",
    "add_value(10.89)\n",
    "\n",
    "print(blockchain)"
   ]
  },
  {
   "cell_type": "code",
   "execution_count": null,
   "metadata": {},
   "outputs": [],
   "source": [
    "# Using default arguments\n",
    "blockchain = []\n",
    "\n",
    "def get_last_blockchain_value():\n",
    "    return blockchain[-1]\n",
    "# We need to add value for last transaction because list is empty there is no data for extract\n",
    "def add_value(transaction_amount, last_transaction=[1]):\n",
    "    blockchain.append([last_transaction, transaction_amount])\n",
    "    \n",
    "add_value(2)\n",
    "add_value(0.9, get_last_blockchain_value())\n",
    "add_value(10.89,get_last_blockchain_value())\n",
    "# print\n",
    "blockchain"
   ]
  },
  {
   "cell_type": "code",
   "execution_count": null,
   "metadata": {},
   "outputs": [],
   "source": [
    "# Keyword arguments, just for example \n",
    "# you can switch to position\n",
    "\n",
    "blockchain = []\n",
    "\n",
    "def get_last_blockchain_value():\n",
    "    return blockchain[-1]\n",
    "# We need to add value for last transaction because list is empty there is no data for extract\n",
    "def add_value(transaction_amount, last_transaction=[1]):\n",
    "    blockchain.append([last_transaction, transaction_amount])\n",
    "    \n",
    "add_value(2)\n",
    "# watch out here\n",
    "add_value(last_transaction=get_last_blockchain_value(),transaction_amount=0.9)\n",
    "add_value(10.89,get_last_blockchain_value())\n",
    "# print\n",
    "blockchain"
   ]
  },
  {
   "cell_type": "code",
   "execution_count": null,
   "metadata": {},
   "outputs": [],
   "source": [
    "# Input Function\n",
    "\n",
    "blockchain = []\n",
    "\n",
    "def get_last_blockchain_value():\n",
    "    return blockchain[-1]\n",
    "# We need to add value for last transaction because list is empty there is no data for extract\n",
    "def add_value(transaction_amount, last_transaction=[1]):\n",
    "    blockchain.append([last_transaction, transaction_amount])\n",
    "\n",
    "# Taking amount from user\n",
    "tx_amount = float(input('Your Transaction Amount : '))\n",
    "add_value(tx_amount)\n",
    "    \n",
    "# again    \n",
    "tx_amount = float(input('Your Transaction Amount : '))\n",
    "add_value(last_transaction=get_last_blockchain_value(),transaction_amount=tx_amount)\n",
    "\n",
    "\n",
    "# and again\n",
    "tx_amount = float(input('Your Transaction Amount : '))\n",
    "add_value(tx_amount, get_last_blockchain_value())\n",
    "\n",
    "\n",
    "\n",
    "blockchain"
   ]
  },
  {
   "cell_type": "code",
   "execution_count": null,
   "metadata": {},
   "outputs": [],
   "source": [
    "# Here ia fun part for loop for taking user amount w return method\n",
    "\n",
    "def get_user_input():\n",
    "    return float(input('Your Transaction Amount : '))\n",
    "\n",
    "tx_amount = get_user_input()\n",
    "add_value(tx_amount)\n",
    "\n",
    "tx_amount = get_user_input()\n",
    "add_value(last_transaction=get_last_blockchain_value(),transaction_amount=tx_amount)\n",
    "\n",
    "tx_amount = get_user_input()\n",
    "add_value(tx_amount, get_last_blockchain_value())\n",
    "\n",
    "blockchain"
   ]
  },
  {
   "cell_type": "code",
   "execution_count": null,
   "metadata": {},
   "outputs": [],
   "source": []
  }
 ],
 "metadata": {
  "kernelspec": {
   "display_name": "Python 3",
   "language": "python",
   "name": "python3"
  },
  "language_info": {
   "codemirror_mode": {
    "name": "ipython",
    "version": 3
   },
   "file_extension": ".py",
   "mimetype": "text/x-python",
   "name": "python",
   "nbconvert_exporter": "python",
   "pygments_lexer": "ipython3",
   "version": "3.7.6"
  }
 },
 "nbformat": 4,
 "nbformat_minor": 4
}
